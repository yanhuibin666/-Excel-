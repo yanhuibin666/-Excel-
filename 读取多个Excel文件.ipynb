{
 "cells": [
  {
   "cell_type": "code",
   "execution_count": 69,
   "metadata": {},
   "outputs": [],
   "source": [
    "import numpy as np\n",
    "import pandas as pd\n",
    "import os\n",
    "os.chdir(r'D:/外观初再检差/21年基础数据/外观管理系统原始数据/')\n",
    "# D:/外观初再检差/21年基础数据/外观管理系统原始数据/外观原始数据\n",
    "# D:\\\\外观初再检差\\\\21年基础数据\\\\外观管理系统原始数据\\\\外观原始数据\n",
    "# os.chdir(r'D:/外观初再检差/21年基础数据/外观管理系统原始数据/')  #改变数据存放路径"
   ]
  },
  {
   "cell_type": "markdown",
   "metadata": {},
   "source": [
    "合并Excel文件到单个"
   ]
  },
  {
   "cell_type": "code",
   "execution_count": 70,
   "metadata": {},
   "outputs": [],
   "source": [
    "# skiprows=1,nrows=2   跳过1行，读取2行内容\n",
    "list_x = []\n",
    "filepath_1 = os.listdir('./外观原始数据/')\n",
    "for i in range(len(filepath_1)):     #循环读取，按filepath_1里面的个数\n",
    "    filepath_2 = os.listdir('./外观原始数据/'+filepath_1[i])\n",
    "    for j in range(len(filepath_2)):\n",
    "        data = pd.read_excel('./外观原始数据/'+filepath_1[i]+'/'+filepath_2[j],skiprows=2,header=None)   #skiprows=2,nrows=2  跳过行，选取行\n",
    "        data = data.values    #将DataFrame类型转化为数据类型\n",
    "        list_x.append(data)    #将循环读取的数据，添加到list_x里面"
   ]
  },
  {
   "cell_type": "code",
   "execution_count": 71,
   "metadata": {},
   "outputs": [],
   "source": [
    "# list_x"
   ]
  },
  {
   "cell_type": "code",
   "execution_count": 72,
   "metadata": {},
   "outputs": [
    {
     "data": {
      "text/plain": [
       "(4, 50000, 59)"
      ]
     },
     "execution_count": 72,
     "metadata": {},
     "output_type": "execute_result"
    }
   ],
   "source": [
    "x_data = np.array(list_x)\n",
    "x_data.shape"
   ]
  },
  {
   "cell_type": "code",
   "execution_count": 73,
   "metadata": {},
   "outputs": [
    {
     "data": {
      "text/plain": [
       "array([[['ZB2-T94', 'MCU', '一般品', ..., 0, 0, 0],\n",
       "        ['ZB2-W21', 'MCU', '一般品', ..., 0, 0, 0],\n",
       "        ['ZB2-T94', 'MCU', '一般品', ..., 0, 0, 0],\n",
       "        ...,\n",
       "        ['ZB2-T95', 'MCU', '一般品', ..., 0, 0, 0],\n",
       "        ['ZB2-T95', 'MCU', '一般品', ..., 0, 0, 0],\n",
       "        ['ZB2-T98', 'MCU', '一般品', ..., 0, 0, 0]],\n",
       "\n",
       "       [['ZB2-T94', 'MCU', '一般品', ..., 0, 0, 0],\n",
       "        ['ZB2-W21', 'MCU', '一般品', ..., 0, 0, 0],\n",
       "        ['ZB2-T94', 'MCU', '一般品', ..., 0, 0, 0],\n",
       "        ...,\n",
       "        ['ZB2-T95', 'MCU', '一般品', ..., 0, 0, 0],\n",
       "        ['ZB2-T95', 'MCU', '一般品', ..., 0, 0, 0],\n",
       "        ['ZB2-T98', 'MCU', '一般品', ..., 0, 0, 0]],\n",
       "\n",
       "       [['ZB2-T95', 'MCU', '一般品', ..., 0, 0, 0],\n",
       "        ['ZB2-W21', 'MCU', '一般品', ..., 0, 0, 0],\n",
       "        ['ZB2-T94', 'MCU', '一般品', ..., 0, 0, 0],\n",
       "        ...,\n",
       "        ['ZB2-T98', 'MCU', '一般品', ..., 0, 0, 0],\n",
       "        ['ZB2-T98', 'MCU', '一般品', ..., 0, 0, 0],\n",
       "        ['ZB2-T98', 'MCU', '一般品', ..., 0, 0, 0]],\n",
       "\n",
       "       [['ZB2-T95', 'MCU', '一般品', ..., 0, 0, 0],\n",
       "        ['ZB2-W21', 'MCU', '一般品', ..., 0, 0, 0],\n",
       "        ['ZB2-T94', 'MCU', '一般品', ..., 0, 0, 0],\n",
       "        ...,\n",
       "        ['ZB2-T98', 'MCU', '一般品', ..., 0, 0, 0],\n",
       "        ['ZB2-T98', 'MCU', '一般品', ..., 0, 0, 0],\n",
       "        ['ZB2-T98', 'MCU', '一般品', ..., 0, 0, 0]]], dtype=object)"
      ]
     },
     "execution_count": 73,
     "metadata": {},
     "output_type": "execute_result"
    }
   ],
   "source": [
    "x_data"
   ]
  },
  {
   "cell_type": "code",
   "execution_count": null,
   "metadata": {},
   "outputs": [],
   "source": []
  },
  {
   "cell_type": "code",
   "execution_count": null,
   "metadata": {},
   "outputs": [],
   "source": []
  }
 ],
 "metadata": {
  "kernelspec": {
   "display_name": "Python 3",
   "language": "python",
   "name": "python3"
  },
  "language_info": {
   "codemirror_mode": {
    "name": "ipython",
    "version": 3
   },
   "file_extension": ".py",
   "mimetype": "text/x-python",
   "name": "python",
   "nbconvert_exporter": "python",
   "pygments_lexer": "ipython3",
   "version": "3.8.5"
  },
  "toc": {
   "base_numbering": 1,
   "nav_menu": {},
   "number_sections": true,
   "sideBar": true,
   "skip_h1_title": false,
   "title_cell": "Table of Contents",
   "title_sidebar": "Contents",
   "toc_cell": false,
   "toc_position": {},
   "toc_section_display": true,
   "toc_window_display": false
  }
 },
 "nbformat": 4,
 "nbformat_minor": 4
}
